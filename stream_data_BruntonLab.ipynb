{
 "cells": [
  {
   "cell_type": "code",
   "execution_count": null,
   "metadata": {},
   "outputs": [],
   "source": [
    "%pip install git+https://github.com/dandi/dandi-cli.git\n",
    "%pip install git+https://github.com/catalystneuro/brunton-lab-to-nwb.git\n",
    "%pip install nilearn"
   ]
  },
  {
   "cell_type": "code",
   "execution_count": 1,
   "metadata": {},
   "outputs": [],
   "source": [
    "from brunton_lab_to_nwb.brunton_widgets import BruntonDashboard\n",
    "from dandi.dandiapi import DandiAPIClient\n",
    "from pynwb import NWBHDF5IO\n"
   ]
  },
  {
   "cell_type": "code",
   "execution_count": 2,
   "metadata": {},
   "outputs": [],
   "source": [
    "with DandiAPIClient() as client:\n",
    "    asset = client.get_dandiset(\"000055\", \"draft\").get_asset_by_path(\n",
    "        \"sub-01/sub-01_ses-4_behavior+ecephys.nwb\"\n",
    "    )\n",
    "    s3_path = asset.get_content_url(follow_redirects=1, strip_query=True)\n",
    "\n",
    "io = NWBHDF5IO(s3_path, mode='r', load_namespaces=True, driver='ros3')\n",
    "nwb = io.read()\n"
   ]
  },
  {
   "cell_type": "code",
   "execution_count": 3,
   "metadata": {},
   "outputs": [
    {
     "data": {
      "text/html": [
       "<style>.container { width:90% !important; }</style>"
      ],
      "text/plain": [
       "<IPython.core.display.HTML object>"
      ]
     },
     "metadata": {},
     "output_type": "display_data"
    }
   ],
   "source": [
    "BruntonDashboard(nwb, tab1=\"stream\")\n"
   ]
  },
  {
   "cell_type": "code",
   "execution_count": null,
   "metadata": {},
   "outputs": [],
   "source": []
  }
 ],
 "metadata": {
  "kernelspec": {
   "display_name": "nwb_data",
   "language": "python",
   "name": "nwb_data"
  },
  "language_info": {
   "codemirror_mode": {
    "name": "ipython",
    "version": 3
   },
   "file_extension": ".py",
   "mimetype": "text/x-python",
   "name": "python",
   "nbconvert_exporter": "python",
   "pygments_lexer": "ipython3",
   "version": "3.8.5"
  }
 },
 "nbformat": 4,
 "nbformat_minor": 4
}

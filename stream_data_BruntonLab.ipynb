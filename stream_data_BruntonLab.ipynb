{
 "cells": [
  {
   "cell_type": "code",
   "execution_count": 1,
   "metadata": {},
   "outputs": [],
   "source": [
    "from pynwb import NWBHDF5IO\n",
    "\n",
    "from nwbwidgets import nwb2widget\n",
    "from nwbwidgets.brains import HumanElectrodesPlotlyWidget\n",
    "from nwbwidgets.utils.timeseries import get_timeseries_tt\n",
    "\n",
    "import glob\n",
    "import natsort\n",
    "import requests\n",
    "\n",
    "import numpy as np\n",
    "import pandas as pd\n",
    "import matplotlib.pyplot as plt\n",
    "\n",
    "from datetime import datetime\n",
    "from ndx_events import LabeledEvents, AnnotatedEventsTable, Events\n",
    "\n",
    "from brunton_lab_to_nwb.brunton_widgets import ETAWidget, BruntonDashboard, AllPositionTracesPlotlyWidget"
   ]
  },
  {
   "cell_type": "code",
   "execution_count": 2,
   "metadata": {},
   "outputs": [],
   "source": [
    "lp = '/data2/users/stepeter/files_nwb/downloads/000055/'\n",
    "fids = natsort.natsorted(glob.glob(lp+'sub-'+str(1).zfill(2)+'/*.nwb'))"
   ]
  },
  {
   "cell_type": "code",
   "execution_count": 3,
   "metadata": {},
   "outputs": [
    {
     "data": {
      "text/html": [
       "<style>.container { width:90% !important; }</style>"
      ],
      "text/plain": [
       "<IPython.core.display.HTML object>"
      ]
     },
     "metadata": {},
     "output_type": "display_data"
    }
   ],
   "source": [
    "from IPython.core.display import display, HTML\n",
    "display(HTML(\"<style>.container { width:90% !important; }</style>\"))"
   ]
  },
  {
   "cell_type": "code",
   "execution_count": 4,
   "metadata": {},
   "outputs": [],
   "source": [
    "io = NWBHDF5IO(fids[2], mode='r', load_namespaces=False)\n",
    "nwb = io.read()"
   ]
  },
  {
   "cell_type": "code",
   "execution_count": 5,
   "metadata": {},
   "outputs": [],
   "source": [
    "# good_samps = (1-np.isnan(nwb.acquisition['ElectricalSeries'].data[:,0])).sum()\n",
    "# fs = nwb.acquisition['ElectricalSeries'].rate\n",
    "# print(good_samps/fs/3600)"
   ]
  },
  {
   "cell_type": "code",
   "execution_count": 6,
   "metadata": {},
   "outputs": [
    {
     "data": {
      "application/vnd.jupyter.widget-view+json": {
       "model_id": "73ebf94ce7c845b8b254f9198461e91a",
       "version_major": 2,
       "version_minor": 0
      },
      "text/plain": [
       "BruntonDashboard(children=(Accordion(children=(Tab(children=(VBox(children=(HBox(children=(StartAndDurationCon…"
      ]
     },
     "metadata": {},
     "output_type": "display_data"
    }
   ],
   "source": [
    "BruntonDashboard(nwb, 'stream')"
   ]
  },
  {
   "cell_type": "code",
   "execution_count": null,
   "metadata": {},
   "outputs": [],
   "source": []
  }
 ],
 "metadata": {
  "kernelspec": {
   "display_name": "nwb_data",
   "language": "python",
   "name": "nwb_data"
  },
  "language_info": {
   "codemirror_mode": {
    "name": "ipython",
    "version": 3
   },
   "file_extension": ".py",
   "mimetype": "text/x-python",
   "name": "python",
   "nbconvert_exporter": "python",
   "pygments_lexer": "ipython3",
   "version": "3.8.5"
  }
 },
 "nbformat": 4,
 "nbformat_minor": 4
}

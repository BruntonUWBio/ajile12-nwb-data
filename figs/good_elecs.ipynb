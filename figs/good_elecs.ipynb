{
 "cells": [
  {
   "cell_type": "code",
   "execution_count": 1,
   "metadata": {},
   "outputs": [],
   "source": [
    "import pdb\n",
    "import numpy as np\n",
    "import pandas as pd\n",
    "from tqdm.notebook import tqdm\n",
    "import matplotlib.pyplot as plt\n",
    "\n",
    "import glob\n",
    "import natsort\n",
    "from pynwb import NWBHDF5IO\n",
    "from ndx_events import LabeledEvents, AnnotatedEventsTable, Events"
   ]
  },
  {
   "cell_type": "code",
   "execution_count": 2,
   "metadata": {},
   "outputs": [],
   "source": [
    "lp = '/data2/users/stepeter/files_nwb/downloads/000055/'\n",
    "nparts = 12\n",
    "\n",
    "genders = ['M', 'M', 'M', 'F', 'F', 'M', 'M', 'F', 'M', 'M', 'F', 'M']\n",
    "ages = [44, 20, 33, 19, 31, 37, 26, 33, 20, 34, 34, 22]"
   ]
  },
  {
   "cell_type": "code",
   "execution_count": 3,
   "metadata": {},
   "outputs": [],
   "source": [
    "def identify_elecs(group_names):\n",
    "    '''Utility function to determine surface v. depth ECoG electrodes'''\n",
    "    is_surf = []\n",
    "    for label in group_names:\n",
    "        if 'grid' in label.lower():\n",
    "            is_surf.append(True)\n",
    "        elif label.lower() in ['mhd', 'latd', 'lmtd', 'ltpd']:\n",
    "            is_surf.append(True)  # special cases\n",
    "        elif (label.lower() == 'ahd') & ('PHD' not in group_names):\n",
    "            is_surf.append(True)  # special case\n",
    "        elif 'd' in label.lower():\n",
    "            is_surf.append(False)\n",
    "        else:\n",
    "            is_surf.append(True)\n",
    "    return np.array(is_surf)"
   ]
  },
  {
   "cell_type": "code",
   "execution_count": 4,
   "metadata": {},
   "outputs": [
    {
     "data": {
      "application/vnd.jupyter.widget-view+json": {
       "model_id": "4f865b1c34d1478ea050c72e39f018df",
       "version_major": 2,
       "version_minor": 0
      },
      "text/plain": [
       "HBox(children=(FloatProgress(value=0.0, max=12.0), HTML(value='')))"
      ]
     },
     "metadata": {},
     "output_type": "display_data"
    },
    {
     "name": "stdout",
     "output_type": "stream",
     "text": [
      "\n"
     ]
    }
   ],
   "source": [
    "n_elecs_tot, n_elecs_good = [], []\n",
    "rec_days, hemis, n_elecs_surf, n_elecs_depth = [], [], [], []\n",
    "for part_ind in tqdm(range(nparts)):\n",
    "    cur_t = 0\n",
    "    fids = natsort.natsorted(glob.glob(lp+'sub-'+str(part_ind+1).zfill(2)+'/*.nwb'))\n",
    "    rec_days.append(len(fids))\n",
    "    for fid in fids[:1]:\n",
    "        io = NWBHDF5IO(fid, mode='r', load_namespaces=False)\n",
    "        nwb = io.read()\n",
    "        \n",
    "        # Determine good/total electrodes\n",
    "        n_elecs_good.append(np.sum(nwb.electrodes['good'][:]))\n",
    "        n_elecs_tot.append(len(nwb.electrodes['good'][:]))\n",
    "        \n",
    "        # Determine implanted hemisphere\n",
    "        c_wrist = nwb.processing['behavior'].data_interfaces['ReachEvents'].description[0]\n",
    "        hemis.append('L' if c_wrist == 'r' else 'R')\n",
    "        \n",
    "        # Determine surface vs. depth electrode count\n",
    "        is_surf = identify_elecs(nwb.electrodes['group_name'][:])\n",
    "        n_elecs_surf.append(np.sum(is_surf))\n",
    "        n_elecs_depth.append(np.sum(1-is_surf))\n",
    "        \n",
    "part_nums = [val+1 for val in range(nparts)]\n",
    "part_ids = ['P'+str(val).zfill(2) for val in part_nums]"
   ]
  },
  {
   "cell_type": "markdown",
   "metadata": {},
   "source": [
    "## Participant characteristics table"
   ]
  },
  {
   "cell_type": "code",
   "execution_count": 5,
   "metadata": {},
   "outputs": [
    {
     "name": "stdout",
     "output_type": "stream",
     "text": [
      "Participant Gender Age\\n(years) Recording\\ndays used Hemisphere \\nimplanted # surface\\nelectrodes # depth\\nelectrodes\n",
      "        P01      M           44                    4                      L                    86                   8\n",
      "        P02      M           20                    4                      R                    70                  16\n",
      "        P03      M           33                    4                      L                    80                  16\n",
      "        P04      F           19                    5                      R                    84                   0\n",
      "        P05      F           31                    3                      R                   106                   0\n",
      "        P06      M           37                    5                      L                    80                   0\n",
      "        P07      M           26                    5                      R                    64                   0\n",
      "        P08      F           33                    5                      R                    92                   0\n",
      "        P09      M           20                    5                      L                    98                  28\n",
      "        P10      M           34                    5                      L                    86                  40\n",
      "        P11      F           34                    5                      L                   106                   0\n",
      "        P12      M           22                    5                      L                    92                  32\n"
     ]
    }
   ],
   "source": [
    "cols = ['Participant', 'Gender', 'Age\\n(years)', 'Recording\\ndays used',\n",
    "        'Hemisphere \\nimplanted', '# surface\\nelectrodes', '# depth\\nelectrodes']\n",
    "df = pd.DataFrame([part_ids, genders, ages, rec_days, hemis,\n",
    "                   n_elecs_surf, n_elecs_depth],\n",
    "                   index=cols).T\n",
    "print(df.to_string(index=False))"
   ]
  },
  {
   "cell_type": "code",
   "execution_count": 6,
   "metadata": {},
   "outputs": [
    {
     "name": "stderr",
     "output_type": "stream",
     "text": [
      "<ipython-input-6-51fbbc095411>:6: UserWarning: FixedFormatter should only be used together with FixedLocator\n",
      "  plt.gca().set_xticklabels(part_ids, rotation=45)\n"
     ]
    },
    {
     "data": {
      "image/png": "[encoded data removed]",
      "text/plain": [
       "<Figure size 562.5x450 with 1 Axes>"
      ]
     },
     "metadata": {
      "needs_background": "light"
     },
     "output_type": "display_data"
    }
   ],
   "source": [
    "fig = plt.figure(figsize=(3.75, 3), dpi=150)\n",
    "plt.bar(part_ids,n_elecs_tot,color='lightgrey')\n",
    "plt.bar(part_ids,n_elecs_good,color='dimgrey')\n",
    "plt.gca().spines['right'].set_visible(False)\n",
    "plt.gca().spines['top'].set_visible(False)\n",
    "plt.gca().set_xticklabels(part_ids, rotation=45)\n",
    "plt.legend(['Total','Good'], frameon=False, fontsize=8)\n",
    "plt.tick_params(labelsize=9)\n",
    "plt.ylabel('Number of electrodes')\n",
    "\n",
    "# fig_sp = '/data1/users/stepeter/mvmt_init/figs/'\n",
    "# fig_name = 'good_bad_elecs'\n",
    "# dpi_plt = 300\n",
    "# fig.savefig(fig_sp+fig_name+'.png',\n",
    "#             format='png',transparent= True,dpi=dpi_plt,\n",
    "#             bbox_inches = 'tight', pad_inches = 0.01,\n",
    "#             )\n",
    "plt.show()\n"
   ]
  },
  {
   "cell_type": "code",
   "execution_count": 7,
   "metadata": {},
   "outputs": [
    {
     "name": "stdout",
     "output_type": "stream",
     "text": [
      "64\n",
      "126\n"
     ]
    }
   ],
   "source": [
    "print(np.array(n_elecs_tot).min())\n",
    "print(np.array(n_elecs_tot).max())"
   ]
  },
  {
   "cell_type": "code",
   "execution_count": 8,
   "metadata": {},
   "outputs": [
    {
     "name": "stdout",
     "output_type": "stream",
     "text": [
      "7.3\n",
      "5.6\n"
     ]
    }
   ],
   "source": [
    "n_elecs_bad = np.array([n_elecs_tot[i]-n_elecs_good[i] for i in range(nparts)])\n",
    "print(n_elecs_bad.mean().round(1))\n",
    "print(n_elecs_bad.std().round(1))"
   ]
  },
  {
   "cell_type": "code",
   "execution_count": null,
   "metadata": {},
   "outputs": [],
   "source": []
  }
 ],
 "metadata": {
  "kernelspec": {
   "display_name": "nwb_data",
   "language": "python",
   "name": "nwb_data"
  },
  "language_info": {
   "codemirror_mode": {
    "name": "ipython",
    "version": 3
   },
   "file_extension": ".py",
   "mimetype": "text/x-python",
   "name": "python",
   "nbconvert_exporter": "python",
   "pygments_lexer": "ipython3",
   "version": "3.8.5"
  }
 },
 "nbformat": 4,
 "nbformat_minor": 4
}

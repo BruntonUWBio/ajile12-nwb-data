{
 "cells": [
  {
   "cell_type": "code",
   "execution_count": 3,
   "metadata": {},
   "outputs": [],
   "source": [
    "import glob\n",
    "import natsort\n",
    "from pynwb import NWBHDF5IO\n",
    "from brunton_lab_to_nwb.brunton_widgets import BruntonDashboard\n"
   ]
  },
  {
   "cell_type": "code",
   "execution_count": 4,
   "metadata": {},
   "outputs": [],
   "source": [
    "lp = '/data2/users/stepeter/files_nwb/downloads/000055/'\n",
    "fids = natsort.natsorted(glob.glob(lp+'sub-'+str(1).zfill(2)+'/*.nwb'))"
   ]
  },
  {
   "cell_type": "code",
   "execution_count": 5,
   "metadata": {},
   "outputs": [],
   "source": [
    "io = NWBHDF5IO(fids[2], mode='r', load_namespaces=False)\n",
    "nwb = io.read()"
   ]
  },
  {
   "cell_type": "code",
   "execution_count": 6,
   "metadata": {},
   "outputs": [
    {
     "data": {
      "application/vnd.jupyter.widget-view+json": {
       "model_id": "2a0d0b02c5d64319918b1d16b9e5d58f",
       "version_major": 2,
       "version_minor": 0
      },
      "text/plain": [
       "BruntonDashboard(children=(Accordion(children=(Tab(children=(VBox(children=(HBox(children=(StartAndDurationCon…"
      ]
     },
     "metadata": {},
     "output_type": "display_data"
    }
   ],
   "source": [
    "BruntonDashboard(nwb, 'stream')"
   ]
  },
  {
   "cell_type": "code",
   "execution_count": null,
   "metadata": {},
   "outputs": [],
   "source": []
  }
 ],
 "metadata": {
  "kernelspec": {
   "display_name": "nwb_data",
   "language": "python",
   "name": "nwb_data"
  },
  "language_info": {
   "codemirror_mode": {
    "name": "ipython",
    "version": 3
   },
   "file_extension": ".py",
   "mimetype": "text/x-python",
   "name": "python",
   "nbconvert_exporter": "python",
   "pygments_lexer": "ipython3",
   "version": "3.8.5"
  }
 },
 "nbformat": 4,
 "nbformat_minor": 4
}

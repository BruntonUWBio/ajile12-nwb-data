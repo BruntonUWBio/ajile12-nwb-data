{
 "cells": [
  {
   "cell_type": "markdown",
   "metadata": {},
   "source": [
    "# Example of identifying relationships between neural activity and movement behavior in AJILE12"
   ]
  },
  {
   "cell_type": "markdown",
   "metadata": {},
   "source": [
    "This script loads data directly from the DANDI remote repository using JupyterHub (https://hub.dandiarchive.org/). It can be adjusted to work on downloaded AJILE12 data files stored locally by using the commented out line in the cell after 'Load the data file' and commenting out all preceding lines in the cell."
   ]
  },
  {
   "cell_type": "code",
   "execution_count": 1,
   "metadata": {
    "scrolled": true,
    "tags": []
   },
   "outputs": [],
   "source": [
    "# Uncomment and run this cell if using JupyterHub\n",
    "# %pip install natsort\n",
    "# %pip install seaborn\n",
    "# %pip install nilearn\n",
    "# %pip install dandi\n",
    "# %pip install nwbwidgets==0.7.0\n",
    "# %pip install git+https://github.com/catalystneuro/brunton-lab-to-nwb.git\n"
   ]
  },
  {
   "cell_type": "code",
   "execution_count": 2,
   "metadata": {},
   "outputs": [],
   "source": [
    "import seaborn as sns\n",
    "import numpy as np\n",
    "import pandas as pd\n",
    "import statsmodels.api as sm\n",
    "from scipy.signal import sosfiltfilt, butter, hilbert\n",
    "\n",
    "from pynwb import NWBHDF5IO\n",
    "from dandi.dandiapi import DandiAPIClient\n",
    "from ndx_events import LabeledEvents, AnnotatedEventsTable, Events\n"
   ]
  },
  {
   "cell_type": "markdown",
   "metadata": {},
   "source": [
    "## User-defined parameters"
   ]
  },
  {
   "cell_type": "markdown",
   "metadata": {},
   "source": [
    "These parameters can be adjusted to analyze other electrodes, frequency bands, behavior types, participants, sessions, etc.\n",
    "\n",
    "We will select data from participant 1, session 3 only during times that the participant was eating (because this is an active behavior). ECoG data will be converted to spectral power in the gamma band (80-100 Hz) for electrode 7, which is located over the motor cortex. We will also look at the vertical velocity of the right wrist."
   ]
  },
  {
   "cell_type": "code",
   "execution_count": 3,
   "metadata": {},
   "outputs": [],
   "source": [
    "sbj, session = 1, 3\n",
    "behavior_type = 'Eat'\n",
    "neural_freq_range = [80, 100]  # Hz\n",
    "ecog_ch_num = 7\n",
    "keypoint_of_interest = 'R_Wrist'\n",
    "pose_direction = 'vertical'  # 'vertical' or 'horizontal'\n"
   ]
  },
  {
   "cell_type": "markdown",
   "metadata": {},
   "source": [
    "## Load the data file"
   ]
  },
  {
   "cell_type": "markdown",
   "metadata": {},
   "source": [
    "Data is loaded in directly from DANDI remote repository."
   ]
  },
  {
   "cell_type": "code",
   "execution_count": 4,
   "metadata": {},
   "outputs": [
    {
     "name": "stderr",
     "output_type": "stream",
     "text": [
      "/opt/conda/lib/python3.9/site-packages/hdmf/spec/namespace.py:532: UserWarning: Ignoring cached namespace 'hdmf-common' version 1.4.0-alpha because version 1.5.0 is already loaded.\n",
      "  warn(\"Ignoring cached namespace '%s' version %s because version %s is already loaded.\"\n",
      "/opt/conda/lib/python3.9/site-packages/hdmf/spec/namespace.py:532: UserWarning: Ignoring cached namespace 'core' version 2.2.5 because version 2.4.0 is already loaded.\n",
      "  warn(\"Ignoring cached namespace '%s' version %s because version %s is already loaded.\"\n"
     ]
    }
   ],
   "source": [
    "with DandiAPIClient() as client:\n",
    "    asset = client.get_dandiset(\"000055\").get_asset_by_path(\n",
    "        \"sub-{0:>02d}/sub-{0:>02d}_ses-{1:.0f}_behavior+ecephys.nwb\".format(sbj, session)\n",
    "    )\n",
    "    s3_path = asset.get_content_url(follow_redirects=1, strip_query=True)\n",
    "\n",
    "io = NWBHDF5IO(s3_path, mode='r', load_namespaces=True, driver='ros3')\n",
    "# io = NWBHDF5IO(local_file_path, mode='r', load_namespaces=False)\n",
    "nwb = io.read()\n"
   ]
  },
  {
   "cell_type": "markdown",
   "metadata": {},
   "source": [
    "### Print information about selected electrode"
   ]
  },
  {
   "cell_type": "code",
   "execution_count": 5,
   "metadata": {},
   "outputs": [
    {
     "data": {
      "text/html": [
       "<div>\n",
       "<style scoped>\n",
       "    .dataframe tbody tr th:only-of-type {\n",
       "        vertical-align: middle;\n",
       "    }\n",
       "\n",
       "    .dataframe tbody tr th {\n",
       "        vertical-align: top;\n",
       "    }\n",
       "\n",
       "    .dataframe thead th {\n",
       "        text-align: right;\n",
       "    }\n",
       "</style>\n",
       "<table border=\"1\" class=\"dataframe\">\n",
       "  <thead>\n",
       "    <tr style=\"text-align: right;\">\n",
       "      <th></th>\n",
       "      <th>x</th>\n",
       "      <th>y</th>\n",
       "      <th>z</th>\n",
       "      <th>imp</th>\n",
       "      <th>location</th>\n",
       "      <th>filtering</th>\n",
       "      <th>group</th>\n",
       "      <th>group_name</th>\n",
       "      <th>standard_deviation</th>\n",
       "      <th>kurtosis</th>\n",
       "      <th>median_deviation</th>\n",
       "      <th>good</th>\n",
       "      <th>low_freq_R2</th>\n",
       "      <th>high_freq_R2</th>\n",
       "    </tr>\n",
       "    <tr>\n",
       "      <th>id</th>\n",
       "      <th></th>\n",
       "      <th></th>\n",
       "      <th></th>\n",
       "      <th></th>\n",
       "      <th></th>\n",
       "      <th></th>\n",
       "      <th></th>\n",
       "      <th></th>\n",
       "      <th></th>\n",
       "      <th></th>\n",
       "      <th></th>\n",
       "      <th></th>\n",
       "      <th></th>\n",
       "      <th></th>\n",
       "    </tr>\n",
       "  </thead>\n",
       "  <tbody>\n",
       "    <tr>\n",
       "      <th>7</th>\n",
       "      <td>-53.896469</td>\n",
       "      <td>-29.059873</td>\n",
       "      <td>62.709102</td>\n",
       "      <td>NaN</td>\n",
       "      <td>unknown</td>\n",
       "      <td>250 Hz lowpass</td>\n",
       "      <td>GRID pynwb.ecephys.ElectrodeGroup at 0x1402148...</td>\n",
       "      <td>GRID</td>\n",
       "      <td>45.422554</td>\n",
       "      <td>2.707063</td>\n",
       "      <td>37.685382</td>\n",
       "      <td>True</td>\n",
       "      <td>0.103835</td>\n",
       "      <td>0.055118</td>\n",
       "    </tr>\n",
       "  </tbody>\n",
       "</table>\n",
       "</div>"
      ],
      "text/plain": [
       "            x          y          z  imp location       filtering  \\\n",
       "id                                                                  \n",
       "7  -53.896469 -29.059873  62.709102  NaN  unknown  250 Hz lowpass   \n",
       "\n",
       "                                                group group_name  \\\n",
       "id                                                                 \n",
       "7   GRID pynwb.ecephys.ElectrodeGroup at 0x1402148...       GRID   \n",
       "\n",
       "    standard_deviation  kurtosis  median_deviation  good  low_freq_R2  \\\n",
       "id                                                                      \n",
       "7            45.422554  2.707063         37.685382  True     0.103835   \n",
       "\n",
       "    high_freq_R2  \n",
       "id                \n",
       "7       0.055118  "
      ]
     },
     "execution_count": 5,
     "metadata": {},
     "output_type": "execute_result"
    }
   ],
   "source": [
    "nwb.electrodes[ecog_ch_num]\n"
   ]
  },
  {
   "cell_type": "markdown",
   "metadata": {},
   "source": [
    "## Data pre-processing"
   ]
  },
  {
   "cell_type": "markdown",
   "metadata": {},
   "source": [
    "Identify the start and stop times when the behavioral label of interest occurs."
   ]
  },
  {
   "cell_type": "code",
   "execution_count": 6,
   "metadata": {},
   "outputs": [],
   "source": [
    "min_len = 100  # (sec) only keep times when the given label appears for longer than this amount of time at once\n",
    "\n",
    "coarse_labels = nwb.intervals['epochs'].to_dataframe()\n",
    "coarse_labels = coarse_labels[coarse_labels['labels'].str.contains(behavior_type)]\n",
    "coarse_labels['diff'] = coarse_labels['stop_time'] - coarse_labels['start_time']\n",
    "coarse_labels = coarse_labels[coarse_labels['diff'] > min_len]\n",
    "coarse_labels.reset_index(inplace=True, drop=True)\n"
   ]
  },
  {
   "cell_type": "markdown",
   "metadata": {},
   "source": [
    "Load the corresponding ECoG data for each behavioral label chunk and convert to spectral power via the Hilbert transform."
   ]
  },
  {
   "cell_type": "code",
   "execution_count": 7,
   "metadata": {},
   "outputs": [],
   "source": [
    "filter_order = 4  # order of butterworth filter used to bandpass filter the ECoG data\n",
    "\n",
    "neural_data = nwb.acquisition['ElectricalSeries'].data\n",
    "sampling_rate = nwb.acquisition['ElectricalSeries'].rate  # (Hz) ECoG sampling rate\n",
    "neural_power = []\n",
    "for i in range(coarse_labels.shape[0]):\n",
    "    # Identify the start/end indices for each continuous chunk of the given behavioral label\n",
    "    start_t = int(coarse_labels.loc[i, 'start_time']*sampling_rate)\n",
    "    end_t = int(coarse_labels.loc[i, 'stop_time']*sampling_rate)\n",
    "    \n",
    "    # Load data snippet\n",
    "    neur_data_curr = neural_data[start_t:end_t, ecog_ch_num]\n",
    "    \n",
    "    # Bandpass filter\n",
    "    sos = butter(filter_order, neural_freq_range, btype='bandpass', output='sos', fs=sampling_rate)\n",
    "    neur_data_filtered = sosfiltfilt(sos, neur_data_curr)\n",
    "    \n",
    "    # Apply Hilbert transform and convert to decibels\n",
    "    neur_pow = np.abs(hilbert(neur_data_filtered))\n",
    "    neur_pow = 10*np.log(neur_pow)\n",
    "    \n",
    "    # Take the difference between neighboring timepoints\n",
    "    neural_power.append(np.diff(neur_pow))\n"
   ]
  },
  {
   "cell_type": "markdown",
   "metadata": {},
   "source": [
    "Load the corresponding pose data for each behavioral label chunk and convert to vertical velocity."
   ]
  },
  {
   "cell_type": "code",
   "execution_count": 8,
   "metadata": {},
   "outputs": [],
   "source": [
    "keypoints = list(nwb.processing['behavior'].data_interfaces['Position'].spatial_series.keys())\n",
    "assert keypoint_of_interest in keypoints\n",
    "assert pose_direction in ['vertical', 'horizontal']\n",
    "keypoint_series = nwb.processing['behavior'].data_interfaces['Position'].spatial_series[keypoint_of_interest]\n",
    "sampling_rate_keypoint = keypoint_series.rate  # Hz\n",
    "keypoint_velocity = []\n",
    "for i in range(coarse_labels.shape[0]):\n",
    "    start_t = int(coarse_labels.loc[i, 'start_time']*sampling_rate_keypoint)\n",
    "    end_t = int(coarse_labels.loc[i, 'stop_time']*sampling_rate_keypoint)\n",
    "    \n",
    "    # Load pose data snippet\n",
    "    pose_data_curr = keypoint_series.data[start_t:end_t, :]\n",
    "    pose_mag_curr = pose_data_curr[:, 1 if pose_direction == 'vertical' else 0]\n",
    "    \n",
    "    # Convert to velocity (delta X / delta t)\n",
    "    velocity_curr = np.diff(pose_mag_curr)/(1/sampling_rate_keypoint)\n",
    "    keypoint_velocity.append(velocity_curr)\n"
   ]
  },
  {
   "cell_type": "markdown",
   "metadata": {},
   "source": [
    "## Align and combine neural and pose data into a pandas dataframe"
   ]
  },
  {
   "cell_type": "code",
   "execution_count": 9,
   "metadata": {},
   "outputs": [],
   "source": [
    "assert len(neural_power) == len(keypoint_velocity)\n",
    "measures_all = []\n",
    "for i in range(len(neural_power)):\n",
    "    # Neural power for the given chunk\n",
    "    neur_curr = neural_power[i]\n",
    "    l_neur = len(neur_curr)\n",
    "    \n",
    "    # Pose velocity for the given chunk\n",
    "    accel_curr = keypoint_velocity[i]\n",
    "    l_accel = len(accel_curr)\n",
    "    \n",
    "    # Downsample neural data to match pose data\n",
    "    inds_split = np.array_split(np.arange(l_neur), l_accel)\n",
    "    for j, inds in enumerate(inds_split):\n",
    "        measures_all.append([neur_curr[inds].mean(), accel_curr[j]])\n",
    "\n",
    "# Combine neural/pose data into a dataframe\n",
    "df_measures_all = pd.DataFrame(np.asarray(measures_all), columns=['Neural power (dB)', 'Keypoint velocity (pixels/sec)'])\n",
    "\n",
    "# Remove any NaN's\n",
    "df_measures_all.dropna(inplace=True)\n",
    "\n",
    "# Remove instances with velocity close to 0\n",
    "df_measures_all = df_measures_all[(df_measures_all['Keypoint velocity (pixels/sec)'] > 100) |\\\n",
    "                                  (df_measures_all['Keypoint velocity (pixels/sec)'] < -100)]\n",
    "        "
   ]
  },
  {
   "cell_type": "markdown",
   "metadata": {},
   "source": [
    "## Results"
   ]
  },
  {
   "cell_type": "markdown",
   "metadata": {},
   "source": [
    "### Print correlation between neural power and keypoint velocity"
   ]
  },
  {
   "cell_type": "markdown",
   "metadata": {},
   "source": [
    "We find a small, positive correlation between neural power in the gamma band and right wrist vertical velocity."
   ]
  },
  {
   "cell_type": "code",
   "execution_count": 10,
   "metadata": {},
   "outputs": [
    {
     "data": {
      "text/html": [
       "<div>\n",
       "<style scoped>\n",
       "    .dataframe tbody tr th:only-of-type {\n",
       "        vertical-align: middle;\n",
       "    }\n",
       "\n",
       "    .dataframe tbody tr th {\n",
       "        vertical-align: top;\n",
       "    }\n",
       "\n",
       "    .dataframe thead th {\n",
       "        text-align: right;\n",
       "    }\n",
       "</style>\n",
       "<table border=\"1\" class=\"dataframe\">\n",
       "  <thead>\n",
       "    <tr style=\"text-align: right;\">\n",
       "      <th></th>\n",
       "      <th>Neural power (dB)</th>\n",
       "      <th>Keypoint velocity (pixels/sec)</th>\n",
       "    </tr>\n",
       "  </thead>\n",
       "  <tbody>\n",
       "    <tr>\n",
       "      <th>Neural power (dB)</th>\n",
       "      <td>1.000000</td>\n",
       "      <td>0.025379</td>\n",
       "    </tr>\n",
       "    <tr>\n",
       "      <th>Keypoint velocity (pixels/sec)</th>\n",
       "      <td>0.025379</td>\n",
       "      <td>1.000000</td>\n",
       "    </tr>\n",
       "  </tbody>\n",
       "</table>\n",
       "</div>"
      ],
      "text/plain": [
       "                                Neural power (dB)  \\\n",
       "Neural power (dB)                        1.000000   \n",
       "Keypoint velocity (pixels/sec)           0.025379   \n",
       "\n",
       "                                Keypoint velocity (pixels/sec)  \n",
       "Neural power (dB)                                     0.025379  \n",
       "Keypoint velocity (pixels/sec)                        1.000000  "
      ]
     },
     "execution_count": 10,
     "metadata": {},
     "output_type": "execute_result"
    }
   ],
   "source": [
    "df_measures_all.corr(method='pearson')"
   ]
  },
  {
   "cell_type": "markdown",
   "metadata": {},
   "source": [
    "### Perform robust linear regression to quantify any linear relationships"
   ]
  },
  {
   "cell_type": "markdown",
   "metadata": {},
   "source": [
    "Regression identifies a small, but significant (p<0.05) positive relationship between neural power in the gamma band and right wrist vertical velocity. This result makes sense because moving one's wrist upward takes more effort (fighting against gravity) than moving one's arm downward and thus may require slightly more cortical control."
   ]
  },
  {
   "cell_type": "code",
   "execution_count": 11,
   "metadata": {},
   "outputs": [
    {
     "data": {
      "text/html": [
       "<table class=\"simpletable\">\n",
       "<caption>Robust linear Model Regression Results</caption>\n",
       "<tr>\n",
       "  <th>Dep. Variable:</th>  <td>Neural power (dB)</td> <th>  No. Observations:  </th> <td>  6447</td>\n",
       "</tr>\n",
       "<tr>\n",
       "  <th>Model:</th>                 <td>RLM</td>        <th>  Df Residuals:      </th> <td>  6445</td>\n",
       "</tr>\n",
       "<tr>\n",
       "  <th>Method:</th>               <td>IRLS</td>        <th>  Df Model:          </th> <td>     1</td>\n",
       "</tr>\n",
       "<tr>\n",
       "  <th>Norm:</th>                <td>HuberT</td>       <th>                     </th>    <td> </td>  \n",
       "</tr>\n",
       "<tr>\n",
       "  <th>Scale Est.:</th>            <td>mad</td>        <th>                     </th>    <td> </td>  \n",
       "</tr>\n",
       "<tr>\n",
       "  <th>Cov Type:</th>              <td>H1</td>         <th>                     </th>    <td> </td>  \n",
       "</tr>\n",
       "<tr>\n",
       "  <th>Date:</th>           <td>Thu, 03 Feb 2022</td>  <th>                     </th>    <td> </td>  \n",
       "</tr>\n",
       "<tr>\n",
       "  <th>Time:</th>               <td>08:26:34</td>      <th>                     </th>    <td> </td>  \n",
       "</tr>\n",
       "<tr>\n",
       "  <th>No. Iterations:</th>        <td>16</td>         <th>                     </th>    <td> </td>  \n",
       "</tr>\n",
       "</table>\n",
       "<table class=\"simpletable\">\n",
       "<tr>\n",
       "                 <td></td>                   <th>coef</th>     <th>std err</th>      <th>z</th>      <th>P>|z|</th>  <th>[0.025</th>    <th>0.975]</th>  \n",
       "</tr>\n",
       "<tr>\n",
       "  <th>const</th>                          <td>   -0.0075</td> <td>    0.006</td> <td>   -1.251</td> <td> 0.211</td> <td>   -0.019</td> <td>    0.004</td>\n",
       "</tr>\n",
       "<tr>\n",
       "  <th>Keypoint velocity (pixels/sec)</th> <td> 1.635e-05</td> <td> 6.62e-06</td> <td>    2.470</td> <td> 0.014</td> <td> 3.37e-06</td> <td> 2.93e-05</td>\n",
       "</tr>\n",
       "</table><br/><br/>If the model instance has been used for another fit with different fit parameters, then the fit options might not be the correct ones anymore ."
      ],
      "text/plain": [
       "<class 'statsmodels.iolib.summary.Summary'>\n",
       "\"\"\"\n",
       "                    Robust linear Model Regression Results                    \n",
       "==============================================================================\n",
       "Dep. Variable:      Neural power (dB)   No. Observations:                 6447\n",
       "Model:                            RLM   Df Residuals:                     6445\n",
       "Method:                          IRLS   Df Model:                            1\n",
       "Norm:                          HuberT                                         \n",
       "Scale Est.:                       mad                                         \n",
       "Cov Type:                          H1                                         \n",
       "Date:                Thu, 03 Feb 2022                                         \n",
       "Time:                        08:26:34                                         \n",
       "No. Iterations:                    16                                         \n",
       "==================================================================================================\n",
       "                                     coef    std err          z      P>|z|      [0.025      0.975]\n",
       "--------------------------------------------------------------------------------------------------\n",
       "const                             -0.0075      0.006     -1.251      0.211      -0.019       0.004\n",
       "Keypoint velocity (pixels/sec)  1.635e-05   6.62e-06      2.470      0.014    3.37e-06    2.93e-05\n",
       "==================================================================================================\n",
       "\n",
       "If the model instance has been used for another fit with different fit parameters, then the fit options might not be the correct ones anymore .\n",
       "\"\"\""
      ]
     },
     "execution_count": 11,
     "metadata": {},
     "output_type": "execute_result"
    }
   ],
   "source": [
    "X = df_measures_all['Keypoint velocity (pixels/sec)']\n",
    "Y = df_measures_all['Neural power (dB)']\n",
    "\n",
    "X = sm.add_constant(X)\n",
    "rlm_model = sm.RLM(Y, X, M=sm.robust.norms.HuberT())\n",
    "rlm_results = rlm_model.fit()\n",
    "rlm_results.summary()\n"
   ]
  },
  {
   "cell_type": "markdown",
   "metadata": {},
   "source": [
    "### Plot data with linear fit"
   ]
  },
  {
   "cell_type": "markdown",
   "metadata": {},
   "source": [
    "Most of the data appears clustered near 0 velocity. The positive relationship between neural power and right wrist vertical velocity is only barely visible. Additional steps that may help better understand the relationship between neural spectral power and wrist velocity include: removing pose data with abnormally high standard deviation due to noisy tracking, subtracting spectral power in nearby periods with minimal movement from ECoG spectral power, and manually reviewing pose trajectories to remove noisy tracking periods."
   ]
  },
  {
   "cell_type": "code",
   "execution_count": 12,
   "metadata": {},
   "outputs": [
    {
     "data": {
      "text/plain": [
       "<AxesSubplot:xlabel='Keypoint velocity (pixels/sec)', ylabel='Neural power (dB)'>"
      ]
     },
     "execution_count": 12,
     "metadata": {},
     "output_type": "execute_result"
    },
    {
     "data": {
      "image/png": "[encoded data removed]",
      "text/plain": [
       "<Figure size 432x288 with 1 Axes>"
      ]
     },
     "metadata": {
      "needs_background": "light"
     },
     "output_type": "display_data"
    }
   ],
   "source": [
    "sns.regplot(data=df_measures_all, x='Keypoint velocity (pixels/sec)', y='Neural power (dB)', robust=True, ci=None)\n"
   ]
  },
  {
   "cell_type": "code",
   "execution_count": null,
   "metadata": {},
   "outputs": [],
   "source": []
  }
 ],
 "metadata": {
  "kernelspec": {
   "display_name": "Python 3",
   "language": "python",
   "name": "python3"
  },
  "language_info": {
   "codemirror_mode": {
    "name": "ipython",
    "version": 3
   },
   "file_extension": ".py",
   "mimetype": "text/x-python",
   "name": "python",
   "nbconvert_exporter": "python",
   "pygments_lexer": "ipython3",
   "version": "3.7.6"
  }
 },
 "nbformat": 4,
 "nbformat_minor": 5
}
